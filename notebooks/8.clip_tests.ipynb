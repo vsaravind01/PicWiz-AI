{
 "cells": [
  {
   "cell_type": "code",
   "execution_count": 1,
   "metadata": {},
   "outputs": [
    {
     "name": "stderr",
     "output_type": "stream",
     "text": [
      "/Users/vsaravind/dev/ChatterChum/.venv/lib/python3.10/site-packages/sentence_transformers/cross_encoder/CrossEncoder.py:13: TqdmExperimentalWarning: Using `tqdm.autonotebook.tqdm` in notebook mode. Use `tqdm.tqdm` instead to force console mode (e.g. in jupyter console)\n",
      "  from tqdm.autonotebook import tqdm, trange\n"
     ]
    }
   ],
   "source": [
    "from sentence_transformers import SentenceTransformer, util\n",
    "from PIL import Image"
   ]
  },
  {
   "cell_type": "code",
   "execution_count": 5,
   "metadata": {},
   "outputs": [],
   "source": [
    "import clip\n",
    "import sys\n",
    "sys.path.append(\"..\")"
   ]
  },
  {
   "cell_type": "code",
   "execution_count": 7,
   "metadata": {},
   "outputs": [],
   "source": [
    "from core.embed.clip import get_clip_embedding\n",
    "from core.loader.image_loader import ImageLoader"
   ]
  },
  {
   "cell_type": "code",
   "execution_count": 8,
   "metadata": {},
   "outputs": [],
   "source": [
    "loader = ImageLoader(images=\"../localstore/b02b6e83-21bb-4199-a405-f43aada87b75\", auto_load=True)"
   ]
  },
  {
   "cell_type": "code",
   "execution_count": 26,
   "metadata": {},
   "outputs": [],
   "source": [
    "embeddings = {}\n",
    "for key, img in loader.iter():\n",
    "    embeddings[key] = get_clip_embedding(img.image)"
   ]
  },
  {
   "cell_type": "code",
   "execution_count": 18,
   "metadata": {},
   "outputs": [],
   "source": [
    "from db.qdrant_connect import QdrantConnection, QdrantCollections\n",
    "from db.sql_connect import SqlConnection\n",
    "from handlers.photo_handler import PhotoHandler\n",
    "from models import Photo"
   ]
  },
  {
   "cell_type": "code",
   "execution_count": 16,
   "metadata": {},
   "outputs": [],
   "source": [
    "handler = PhotoHandler(SqlConnection)"
   ]
  },
  {
   "cell_type": "code",
   "execution_count": 23,
   "metadata": {},
   "outputs": [
    {
     "data": {
      "text/plain": [
       "Photo(id=UUID('ab6da56e-dad3-4ad9-88eb-da05ef2c37c9'), uri='/Users/vsaravind/dev/ChatterChum/localstore/b02b6e83-21bb-4199-a405-f43aada87b75/ab6da56e-dad3-4ad9-88eb-da05ef2c37c9.jpeg', faces_processed=False, objects_processed=True, scene_processed=True, datastore=<DatastoreType.LOCAL: 'local'>, objects=[], scenes=[['outdoor', 1.0], ['rainforest', 0.36332589387893677], ['botanical_garden', 0.16723760962486267]], entities=['outdoor', 'rainforest', 'botanical garden'], owner_id=UUID('b02b6e83-21bb-4199-a405-f43aada87b75'))"
      ]
     },
     "execution_count": 23,
     "metadata": {},
     "output_type": "execute_result"
    }
   ],
   "source": [
    "photos = await handler.list(filters={\"owner_id\": \"b02b6e83-21bb-4199-a405-f43aada87b75\", \"datastore\": \"local\"})\n",
    "photos = [Photo(**photo) for photo in photos]\n",
    "photos[0]"
   ]
  },
  {
   "cell_type": "code",
   "execution_count": 24,
   "metadata": {},
   "outputs": [
    {
     "data": {
      "text/plain": [
       "20"
      ]
     },
     "execution_count": 24,
     "metadata": {},
     "output_type": "execute_result"
    }
   ],
   "source": [
    "len(photos)"
   ]
  },
  {
   "cell_type": "code",
   "execution_count": 28,
   "metadata": {},
   "outputs": [
    {
     "name": "stderr",
     "output_type": "stream",
     "text": [
      "/Users/vsaravind/dev/ChatterChum/.venv/lib/python3.10/site-packages/pydantic/main.py:387: UserWarning: Pydantic serializer warnings:\n",
      "  Expected `tuple[str, float]` but got `list` with value `['outdoor', 1.0]` - serialized value may not be as expected\n",
      "  Expected `tuple[str, float]` but got `list` with value `['rainforest', 0.36332589387893677]` - serialized value may not be as expected\n",
      "  Expected `tuple[str, float]` but got `list` with value `['botanical_garden', 0.16723760962486267]` - serialized value may not be as expected\n",
      "  return self.__pydantic_serializer__.to_python(\n",
      "/Users/vsaravind/dev/ChatterChum/.venv/lib/python3.10/site-packages/pydantic/main.py:387: UserWarning: Pydantic serializer warnings:\n",
      "  Expected `tuple[str, float]` but got `list` with value `['car', 0.9622276425361633]` - serialized value may not be as expected\n",
      "  Expected `tuple[str, float]` but got `list` with value `['car', 0.9262083768844604]` - serialized value may not be as expected\n",
      "  Expected `tuple[str, float]` but got `list` with value `['car', 0.7233259081840515]` - serialized value may not be as expected\n",
      "  Expected `tuple[str, float]` but got `list` with value `['outdoor', 1.0]` - serialized value may not be as expected\n",
      "  Expected `tuple[str, float]` but got `list` with value `['park', 0.13914959132671356]` - serialized value may not be as expected\n",
      "  Expected `tuple[str, float]` but got `list` with value `['campus', 0.07851364463567734]` - serialized value may not be as expected\n",
      "  return self.__pydantic_serializer__.to_python(\n",
      "/Users/vsaravind/dev/ChatterChum/.venv/lib/python3.10/site-packages/pydantic/main.py:387: UserWarning: Pydantic serializer warnings:\n",
      "  Expected `tuple[str, float]` but got `list` with value `['cell phone', 0.9490715265274048]` - serialized value may not be as expected\n",
      "  Expected `tuple[str, float]` but got `list` with value `['door', 0.13946960866451263]` - serialized value may not be as expected\n",
      "  Expected `tuple[str, float]` but got `list` with value `['music_studio', 0.09526710212230682]` - serialized value may not be as expected\n",
      "  Expected `tuple[str, float]` but got `list` with value `['hospital_room', 0.08248911052942276]` - serialized value may not be as expected\n",
      "  Expected `tuple[str, float]` but got `list` with value `['indoor', 0.0]` - serialized value may not be as expected\n",
      "  return self.__pydantic_serializer__.to_python(\n",
      "/Users/vsaravind/dev/ChatterChum/.venv/lib/python3.10/site-packages/pydantic/main.py:387: UserWarning: Pydantic serializer warnings:\n",
      "  Expected `tuple[str, float]` but got `list` with value `['outdoor', 1.0]` - serialized value may not be as expected\n",
      "  return self.__pydantic_serializer__.to_python(\n",
      "/Users/vsaravind/dev/ChatterChum/.venv/lib/python3.10/site-packages/pydantic/main.py:387: UserWarning: Pydantic serializer warnings:\n",
      "  Expected `tuple[str, float]` but got `list` with value `['outdoor', 0.8]` - serialized value may not be as expected\n",
      "  Expected `tuple[str, float]` but got `list` with value `['archaelogical_excavation', 0.0878475233912468]` - serialized value may not be as expected\n",
      "  return self.__pydantic_serializer__.to_python(\n",
      "/Users/vsaravind/dev/ChatterChum/.venv/lib/python3.10/site-packages/pydantic/main.py:387: UserWarning: Pydantic serializer warnings:\n",
      "  Expected `tuple[str, float]` but got `list` with value `['fabric_store', 0.5284715294837952]` - serialized value may not be as expected\n",
      "  Expected `tuple[str, float]` but got `list` with value `['indoor', 0.4]` - serialized value may not be as expected\n",
      "  Expected `tuple[str, float]` but got `list` with value `['clothing_store', 0.08897187560796738]` - serialized value may not be as expected\n",
      "  return self.__pydantic_serializer__.to_python(\n",
      "/Users/vsaravind/dev/ChatterChum/.venv/lib/python3.10/site-packages/pydantic/main.py:387: UserWarning: Pydantic serializer warnings:\n",
      "  Expected `tuple[str, float]` but got `list` with value `['outdoor', 1.0]` - serialized value may not be as expected\n",
      "  Expected `tuple[str, float]` but got `list` with value `['ocean', 0.41680294275283813]` - serialized value may not be as expected\n",
      "  Expected `tuple[str, float]` but got `list` with value `['sky', 0.1766366809606552]` - serialized value may not be as expected\n",
      "  return self.__pydantic_serializer__.to_python(\n",
      "/Users/vsaravind/dev/ChatterChum/.venv/lib/python3.10/site-packages/pydantic/main.py:387: UserWarning: Pydantic serializer warnings:\n",
      "  Expected `tuple[str, float]` but got `list` with value `['car', 0.9581008553504944]` - serialized value may not be as expected\n",
      "  Expected `tuple[str, float]` but got `list` with value `['backpack', 0.8921747803688049]` - serialized value may not be as expected\n",
      "  Expected `tuple[str, float]` but got `list` with value `['car', 0.831108570098877]` - serialized value may not be as expected\n",
      "  Expected `tuple[str, float]` but got `list` with value `['outdoor', 1.0]` - serialized value may not be as expected\n",
      "  Expected `tuple[str, float]` but got `list` with value `['park', 0.21119855344295502]` - serialized value may not be as expected\n",
      "  return self.__pydantic_serializer__.to_python(\n",
      "/Users/vsaravind/dev/ChatterChum/.venv/lib/python3.10/site-packages/pydantic/main.py:387: UserWarning: Pydantic serializer warnings:\n",
      "  Expected `tuple[str, float]` but got `list` with value `['cell phone', 0.9288647174835205]` - serialized value may not be as expected\n",
      "  Expected `tuple[str, float]` but got `list` with value `['dining table', 0.9175111651420593]` - serialized value may not be as expected\n",
      "  Expected `tuple[str, float]` but got `list` with value `['book', 0.7504732012748718]` - serialized value may not be as expected\n",
      "  Expected `tuple[str, float]` but got `list` with value `['coffee_shop', 0.18434831500053406]` - serialized value may not be as expected\n",
      "  Expected `tuple[str, float]` but got `list` with value `['indoor', 0.1]` - serialized value may not be as expected\n",
      "  return self.__pydantic_serializer__.to_python(\n",
      "/Users/vsaravind/dev/ChatterChum/.venv/lib/python3.10/site-packages/pydantic/main.py:387: UserWarning: Pydantic serializer warnings:\n",
      "  Expected `tuple[str, float]` but got `list` with value `['outdoor', 1.0]` - serialized value may not be as expected\n",
      "  Expected `tuple[str, float]` but got `list` with value `['ice_floe', 0.5396459102630615]` - serialized value may not be as expected\n",
      "  Expected `tuple[str, float]` but got `list` with value `['ocean', 0.16339632868766785]` - serialized value may not be as expected\n",
      "  Expected `tuple[str, float]` but got `list` with value `['wave', 0.12902115285396576]` - serialized value may not be as expected\n",
      "  return self.__pydantic_serializer__.to_python(\n",
      "/Users/vsaravind/dev/ChatterChum/.venv/lib/python3.10/site-packages/pydantic/main.py:387: UserWarning: Pydantic serializer warnings:\n",
      "  Expected `tuple[str, float]` but got `list` with value `['outdoor', 1.0]` - serialized value may not be as expected\n",
      "  Expected `tuple[str, float]` but got `list` with value `['park', 0.16316430270671844]` - serialized value may not be as expected\n",
      "  Expected `tuple[str, float]` but got `list` with value `['tree_farm', 0.10550443828105927]` - serialized value may not be as expected\n",
      "  return self.__pydantic_serializer__.to_python(\n",
      "/Users/vsaravind/dev/ChatterChum/.venv/lib/python3.10/site-packages/pydantic/main.py:387: UserWarning: Pydantic serializer warnings:\n",
      "  Expected `tuple[str, float]` but got `list` with value `['outdoor', 1.0]` - serialized value may not be as expected\n",
      "  Expected `tuple[str, float]` but got `list` with value `['boardwalk', 0.2662580907344818]` - serialized value may not be as expected\n",
      "  Expected `tuple[str, float]` but got `list` with value `['park', 0.07986390590667725]` - serialized value may not be as expected\n",
      "  return self.__pydantic_serializer__.to_python(\n",
      "/Users/vsaravind/dev/ChatterChum/.venv/lib/python3.10/site-packages/pydantic/main.py:387: UserWarning: Pydantic serializer warnings:\n",
      "  Expected `tuple[str, float]` but got `list` with value `['outdoor', 1.0]` - serialized value may not be as expected\n",
      "  Expected `tuple[str, float]` but got `list` with value `['palace', 0.12359849363565445]` - serialized value may not be as expected\n",
      "  Expected `tuple[str, float]` but got `list` with value `['building_facade', 0.09752938896417618]` - serialized value may not be as expected\n",
      "  Expected `tuple[str, float]` but got `list` with value `['outdoor', 0.07597563415765762]` - serialized value may not be as expected\n",
      "  return self.__pydantic_serializer__.to_python(\n",
      "/Users/vsaravind/dev/ChatterChum/.venv/lib/python3.10/site-packages/pydantic/main.py:387: UserWarning: Pydantic serializer warnings:\n",
      "  Expected `tuple[str, float]` but got `list` with value `['bench', 0.7806347608566284]` - serialized value may not be as expected\n",
      "  Expected `tuple[str, float]` but got `list` with value `['bench', 0.756419837474823]` - serialized value may not be as expected\n",
      "  Expected `tuple[str, float]` but got `list` with value `['outdoor', 1.0]` - serialized value may not be as expected\n",
      "  Expected `tuple[str, float]` but got `list` with value `['plaza', 0.1620200276374817]` - serialized value may not be as expected\n",
      "  Expected `tuple[str, float]` but got `list` with value `['tower', 0.09381458908319473]` - serialized value may not be as expected\n",
      "  return self.__pydantic_serializer__.to_python(\n",
      "/Users/vsaravind/dev/ChatterChum/.venv/lib/python3.10/site-packages/pydantic/main.py:387: UserWarning: Pydantic serializer warnings:\n",
      "  Expected `tuple[str, float]` but got `list` with value `['bench', 0.8970574140548706]` - serialized value may not be as expected\n",
      "  Expected `tuple[str, float]` but got `list` with value `['outdoor', 1.0]` - serialized value may not be as expected\n",
      "  Expected `tuple[str, float]` but got `list` with value `['plaza', 0.1290433257818222]` - serialized value may not be as expected\n",
      "  Expected `tuple[str, float]` but got `list` with value `['tower', 0.0854375883936882]` - serialized value may not be as expected\n",
      "  return self.__pydantic_serializer__.to_python(\n",
      "/Users/vsaravind/dev/ChatterChum/.venv/lib/python3.10/site-packages/pydantic/main.py:387: UserWarning: Pydantic serializer warnings:\n",
      "  Expected `tuple[str, float]` but got `list` with value `['indoor', 0.2]` - serialized value may not be as expected\n",
      "  Expected `tuple[str, float]` but got `list` with value `['shower', 0.164163276553154]` - serialized value may not be as expected\n",
      "  Expected `tuple[str, float]` but got `list` with value `['hospital_room', 0.15148769319057465]` - serialized value may not be as expected\n",
      "  Expected `tuple[str, float]` but got `list` with value `['discotheque', 0.08281394094228745]` - serialized value may not be as expected\n",
      "  Expected `tuple[str, float]` but got `list` with value `['corn_field', 0.08078411966562271]` - serialized value may not be as expected\n",
      "  return self.__pydantic_serializer__.to_python(\n",
      "/Users/vsaravind/dev/ChatterChum/.venv/lib/python3.10/site-packages/pydantic/main.py:387: UserWarning: Pydantic serializer warnings:\n",
      "  Expected `tuple[str, float]` but got `list` with value `['outdoor', 1.0]` - serialized value may not be as expected\n",
      "  Expected `tuple[str, float]` but got `list` with value `['playground', 0.1758488267660141]` - serialized value may not be as expected\n",
      "  Expected `tuple[str, float]` but got `list` with value `['boardwalk', 0.07975515723228455]` - serialized value may not be as expected\n",
      "  return self.__pydantic_serializer__.to_python(\n",
      "/Users/vsaravind/dev/ChatterChum/.venv/lib/python3.10/site-packages/pydantic/main.py:387: UserWarning: Pydantic serializer warnings:\n",
      "  Expected `tuple[str, float]` but got `list` with value `['outdoor', 0.9]` - serialized value may not be as expected\n",
      "  Expected `tuple[str, float]` but got `list` with value `['boardwalk', 0.09042355418205261]` - serialized value may not be as expected\n",
      "  return self.__pydantic_serializer__.to_python(\n",
      "/Users/vsaravind/dev/ChatterChum/.venv/lib/python3.10/site-packages/pydantic/main.py:387: UserWarning: Pydantic serializer warnings:\n",
      "  Expected `tuple[str, float]` but got `list` with value `['oven', 0.855837345123291]` - serialized value may not be as expected\n",
      "  Expected `tuple[str, float]` but got `list` with value `['microwave', 0.8192859888076782]` - serialized value may not be as expected\n",
      "  Expected `tuple[str, float]` but got `list` with value `['book', 0.8026880621910095]` - serialized value may not be as expected\n",
      "  Expected `tuple[str, float]` but got `list` with value `['book', 0.745361864566803]` - serialized value may not be as expected\n",
      "  Expected `tuple[str, float]` but got `list` with value `['clothing_store', 0.3594419062137604]` - serialized value may not be as expected\n",
      "  Expected `tuple[str, float]` but got `list` with value `['shoe_shop', 0.23009316623210907]` - serialized value may not be as expected\n",
      "  Expected `tuple[str, float]` but got `list` with value `['indoor', 0.0]` - serialized value may not be as expected\n",
      "  return self.__pydantic_serializer__.to_python(\n",
      "/Users/vsaravind/dev/ChatterChum/.venv/lib/python3.10/site-packages/pydantic/main.py:387: UserWarning: Pydantic serializer warnings:\n",
      "  Expected `tuple[str, float]` but got `list` with value `['outdoor', 0.6]` - serialized value may not be as expected\n",
      "  Expected `tuple[str, float]` but got `list` with value `['beauty_salon', 0.4243944585323334]` - serialized value may not be as expected\n",
      "  Expected `tuple[str, float]` but got `list` with value `['sky', 0.076458640396595]` - serialized value may not be as expected\n",
      "  return self.__pydantic_serializer__.to_python(\n"
     ]
    }
   ],
   "source": [
    "with QdrantConnection(QdrantCollections.CLIP_EMBEDDINGS) as conn:\n",
    "    for photo in photos:\n",
    "        conn.upsert(str(photo.id), photo.model_dump(), embeddings[photo.id])"
   ]
  }
 ],
 "metadata": {
  "kernelspec": {
   "display_name": ".venv",
   "language": "python",
   "name": "python3"
  },
  "language_info": {
   "codemirror_mode": {
    "name": "ipython",
    "version": 3
   },
   "file_extension": ".py",
   "mimetype": "text/x-python",
   "name": "python",
   "nbconvert_exporter": "python",
   "pygments_lexer": "ipython3",
   "version": "3.10.12"
  }
 },
 "nbformat": 4,
 "nbformat_minor": 2
}
