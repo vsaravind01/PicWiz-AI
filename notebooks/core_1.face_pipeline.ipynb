{
 "cells": [
  {
   "cell_type": "code",
   "execution_count": 1,
   "metadata": {},
   "outputs": [],
   "source": [
    "import sys\n",
    "\n",
    "sys.path.append('..')"
   ]
  },
  {
   "cell_type": "code",
   "execution_count": 3,
   "metadata": {},
   "outputs": [],
   "source": [
    "from core.detect.face import FaceDetector\n",
    "from core.extract.face import FaceExtractor\n",
    "from core.embed.face import FaceEmbedder\n",
    "# from core.mongo_connect import MongoConnection, MongoCollections\n",
    "\n",
    "from PIL import Image\n",
    "from core.types import ImageData"
   ]
  },
  {
   "cell_type": "code",
   "execution_count": 4,
   "metadata": {},
   "outputs": [],
   "source": [
    "from core.loader.image_loader import ImageLoader\n",
    "\n",
    "loader = ImageLoader(\"./datasets/people\", auto_load=True)\n",
    "detector = FaceDetector()"
   ]
  },
  {
   "cell_type": "code",
   "execution_count": 4,
   "metadata": {},
   "outputs": [],
   "source": [
    "for key, img in loader.iter():\n",
    "    detector.detect(img)"
   ]
  },
  {
   "cell_type": "code",
   "execution_count": 5,
   "metadata": {},
   "outputs": [],
   "source": [
    "extractor = FaceExtractor()\n",
    "for img in loader.iter():\n",
    "    for face in extractor.extract(img):\n",
    "        pass"
   ]
  },
  {
   "cell_type": "code",
   "execution_count": 6,
   "metadata": {},
   "outputs": [],
   "source": [
    "embedder = FaceEmbedder()\n",
    "for img in loader.iter():\n",
    "    embedder.embed(img)"
   ]
  },
  {
   "cell_type": "code",
   "execution_count": 4,
   "metadata": {},
   "outputs": [],
   "source": [
    "from core.detect.object import ObjectDetector"
   ]
  },
  {
   "cell_type": "code",
   "execution_count": 5,
   "metadata": {},
   "outputs": [],
   "source": [
    "ob_detector = ObjectDetector()"
   ]
  },
  {
   "cell_type": "code",
   "execution_count": 12,
   "metadata": {},
   "outputs": [
    {
     "name": "stdout",
     "output_type": "stream",
     "text": [
      "('boat', 0.9927745)\n",
      "('boat', 0.77024037)\n",
      "('cell phone', 0.97126925)\n",
      "('chair', 0.97482294)\n",
      "('couch', 0.85013634)\n",
      "('couch', 0.8085669)\n",
      "('chair', 0.9372932)\n",
      "('cell phone', 0.84612155)\n",
      "('boat', 0.99561214)\n",
      "('car', 0.9580519)\n",
      "('backpack', 0.84643114)\n",
      "('car', 0.82182)\n"
     ]
    }
   ],
   "source": [
    "for img in loader.iter():\n",
    "    ob_detector.detect(img, with_return=True)"
   ]
  },
  {
   "cell_type": "code",
   "execution_count": 2,
   "metadata": {},
   "outputs": [],
   "source": [
    "from core.detect.scene import SceneDetector\n",
    "from core.loader.image_loader import ImageLoader\n",
    "\n",
    "loader = ImageLoader(\"./datasets/people\", auto_load=True)"
   ]
  },
  {
   "cell_type": "code",
   "execution_count": 3,
   "metadata": {},
   "outputs": [],
   "source": [
    "sc_detector = SceneDetector()"
   ]
  },
  {
   "cell_type": "code",
   "execution_count": 4,
   "metadata": {},
   "outputs": [],
   "source": [
    "for img in loader.iter():\n",
    "    sc_detector.detect(img)"
   ]
  },
  {
   "cell_type": "code",
   "execution_count": 22,
   "metadata": {},
   "outputs": [
    {
     "data": {
      "text/plain": [
       "[('outdoor', 1.0),\n",
       " ('/o/ocean 243', 0.2108510136604309),\n",
       " ('/b/beach 48', 0.20662513375282288),\n",
       " ('/c/coast 97', 0.09585604071617126),\n",
       " ('/w/wave 357', 0.09509393572807312)]"
      ]
     },
     "execution_count": 22,
     "metadata": {},
     "output_type": "execute_result"
    }
   ],
   "source": [
    "loader.image_data[6].scenes"
   ]
  },
  {
   "cell_type": "code",
   "execution_count": 75,
   "metadata": {},
   "outputs": [
    {
     "data": {
      "text/plain": [
       "[('outdoor', 1.0), ('/l/lighthouse 214', 0.11859507113695145)]"
      ]
     },
     "execution_count": 75,
     "metadata": {},
     "output_type": "execute_result"
    }
   ],
   "source": [
    "loader.image_data[12].scenes"
   ]
  }
 ],
 "metadata": {
  "kernelspec": {
   "display_name": ".venv",
   "language": "python",
   "name": "python3"
  },
  "language_info": {
   "codemirror_mode": {
    "name": "ipython",
    "version": 3
   },
   "file_extension": ".py",
   "mimetype": "text/x-python",
   "name": "python",
   "nbconvert_exporter": "python",
   "pygments_lexer": "ipython3",
   "version": "3.10.12"
  }
 },
 "nbformat": 4,
 "nbformat_minor": 2
}
