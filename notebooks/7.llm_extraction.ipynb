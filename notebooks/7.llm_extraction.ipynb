{
 "cells": [
  {
   "cell_type": "code",
   "execution_count": 1,
   "metadata": {},
   "outputs": [],
   "source": [
    "import cohere"
   ]
  },
  {
   "cell_type": "code",
   "execution_count": 7,
   "metadata": {},
   "outputs": [],
   "source": [
    "co = cohere.Client(api_key=\"uK9Jk6MRaFj7Fy7fPFGr41NZHRnUFm1xIvawkt8N\")"
   ]
  },
  {
   "cell_type": "code",
   "execution_count": 37,
   "metadata": {},
   "outputs": [],
   "source": [
    "prompt = \"\"\"Extract the person names, place, objects and a short description from the GIVEN QUERY and return them as a json output. \n",
    "And identify the type of task to be done. Choose tasks only from (GENERATE, FIND, MATCH).\n",
    "If the context refers to the first person, then add \"<me>\" in the person_names list.\n",
    "If you are unable to find any of the classes, use empty array for the class.\n",
    "The description should be generated only when a suitable description can a made, if not keep description as None.\n",
    "The place should not mention a named location. Instead it should be general. For example, louvre meseum or louvre should be just \"museum\".\n",
    "The description should be in 1-2 lines and it will be used for image retrieval search.\n",
    "Use the EXAMPLE SCENARIOS as examples,\n",
    "\n",
    "EXAMPLE SCENARIOS:\n",
    "1 - Show all the photos of bob, jack and aravind.\n",
    "Output:\n",
    "{\n",
    "\"person_names\": [\"bob\", \"jack\", \"aravind\"],\n",
    "\"objects\": [],\n",
    "\"places\": [],\n",
    "\"task\": \"fetch\",\n",
    "\"description\": \"None\"\n",
    "}\n",
    "2 - Generate an photo album with my beach photos with aravind\n",
    "Output\n",
    "{\n",
    "\"person_names\": [\"<me>\", \"aravind\"],\n",
    "\"objects\":[],\n",
    "\"places\": [\"beach\"],\n",
    "\"task\": \"generate\",\n",
    "\"description\": \"People having fun at the beach, creating unforgettable memories with friends\"\n",
    "}\n",
    "3 - Get all my photos standing near a bike\n",
    "Output\n",
    "{\"person_names\": [\"<me>\"],\n",
    "\"objects\": [\"bike\"],\n",
    "\"places\": [],\n",
    "\"task\": \"fetch\",\n",
    "\"description\": \"People standing near a bicycle\"\n",
    "}\n",
    "4 - an album with me and sandeep\n",
    "{\n",
    "  \"person_names\": [\"<me>\", \"sandeep\"],\n",
    "  \"objects\": [],\n",
    "  \"places\": [],\n",
    "  \"task\": \"fetch\",\n",
    "  \"description\": \"None\"\n",
    "}\n",
    "\"\"\""
   ]
  },
  {
   "cell_type": "code",
   "execution_count": 38,
   "metadata": {},
   "outputs": [],
   "source": [
    "query = \"make an album with me at the sea playing soccer\"\n",
    "\n",
    "final_output = prompt + \"\\n\\nGIVEN TEXT: \" + query"
   ]
  },
  {
   "cell_type": "code",
   "execution_count": 39,
   "metadata": {},
   "outputs": [
    {
     "name": "stdout",
     "output_type": "stream",
     "text": [
      "{\n",
      "    \"person_names\": [\"<me>\"],\n",
      "    \"places\": [\"sea\"],\n",
      "    \"objects\": [\"soccer ball\"],\n",
      "    \"task\": \"generate\"\n",
      "}\n"
     ]
    }
   ],
   "source": [
    "res = co.chat(model=\"command-r\", message=final_output, response_format={\"type\": \"json_object\"})\n",
    "print(res.text)"
   ]
  },
  {
   "cell_type": "code",
   "execution_count": 40,
   "metadata": {},
   "outputs": [],
   "source": [
    "import json\n",
    "\n",
    "res = json.loads(res.text)"
   ]
  },
  {
   "cell_type": "code",
   "execution_count": 41,
   "metadata": {},
   "outputs": [
    {
     "data": {
      "text/plain": [
       "{'person_names': ['<me>'],\n",
       " 'places': ['sea'],\n",
       " 'objects': ['soccer ball'],\n",
       " 'task': 'generate'}"
      ]
     },
     "execution_count": 41,
     "metadata": {},
     "output_type": "execute_result"
    }
   ],
   "source": [
    "res"
   ]
  }
 ],
 "metadata": {
  "kernelspec": {
   "display_name": ".venv",
   "language": "python",
   "name": "python3"
  },
  "language_info": {
   "codemirror_mode": {
    "name": "ipython",
    "version": 3
   },
   "file_extension": ".py",
   "mimetype": "text/x-python",
   "name": "python",
   "nbconvert_exporter": "python",
   "pygments_lexer": "ipython3",
   "version": "3.10.12"
  }
 },
 "nbformat": 4,
 "nbformat_minor": 2
}
